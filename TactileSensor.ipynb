{
 "cells": [
  {
   "cell_type": "code",
   "execution_count": null,
   "metadata": {},
   "outputs": [],
   "source": [
    "!pip install pyserial"
   ]
  },
  {
   "cell_type": "code",
   "execution_count": null,
   "metadata": {},
   "outputs": [],
   "source": [
    "!conda install -c anaconda pandas"
   ]
  },
  {
   "cell_type": "code",
   "execution_count": null,
   "metadata": {},
   "outputs": [],
   "source": [
    "import serial\n",
    "import numpy as np\n",
    "import pandas as pd\n",
    "import matplotlib.pyplot as plt\n",
    "import math\n",
    "import time\n",
    "import struct"
   ]
  },
  {
   "cell_type": "code",
   "execution_count": null,
   "metadata": {},
   "outputs": [],
   "source": [
    "class TactileSensor:\n",
    "    PC_MEASURE_REQUEST = 0       \n",
    "    sensorXNum=0\n",
    "    sensorYNum=0\n",
    "    thermalNum=0\n",
    "    fingerNum=0\n",
    "    pressureDistribution = 0\n",
    "    \n",
    "    def __init__(self, param = (10, 10, 2, 3)):  \n",
    "        self.setParam(param)\n",
    "    \n",
    "    def setParam(self, param):  \n",
    "        self.sensorXNum = param[0]  \n",
    "        self.sensorYNum = param[1]  \n",
    "        self.thermalNum = param[2]\n",
    "        self.fingerNum = param[3]\n",
    "        \n",
    "    def serialInit(self, port = 'COM9', baudrate = 921600, request = 0xFE):\n",
    "        self.ser = serial.Serial()\n",
    "        self.ser.baudrate = baudrate\n",
    "        self.ser.port = port  \n",
    "        self.PC_MEASURE_REQUEST = request\n",
    "        \n",
    "    def firstRequest(self):\n",
    "        self.serialInit()\n",
    "        data = bytearray([self.PC_MEASURE_REQUEST])\n",
    "        self.ser.open()\n",
    "        self.ser.write(data)\n",
    "        time.sleep(1)\n",
    "        self.ser.flushInput()\n",
    "        self.ser.close()\n",
    "        self.ReadData()\n",
    "            \n",
    "    def ReadData(self):\n",
    "        pressureDistribution = np.zeros([self.fingerNum, self.sensorXNum, self.sensorYNum], dtype = int)\n",
    "        finger = self.fingerNum\n",
    "        x = self.sensorXNum\n",
    "        y = self.sensorYNum\n",
    "        packing = 0\n",
    "        data = bytearray([self.PC_MEASURE_REQUEST])\n",
    "    \n",
    "        self.ser.open()\n",
    "        self.ser.write(data)\n",
    "        time.sleep(1)    \n",
    "        for finger in range(self.fingerNum):\n",
    "            for x in range(self.sensorXNum):\n",
    "                for y in range(self.sensorYNum):\n",
    "                    if(packing == 0):\n",
    "                        rcv = self.ser.read()                             #AAAAAAAA\n",
    "                        rcv = struct.unpack('B',rcv[:1])\n",
    "                        pressureDistribution[finger][x][y]= rcv[0]<<4     #AAAAAAAA0000\n",
    "                        rcv = self.ser.read()                             #        AAAABBBB\n",
    "                        rcv = struct.unpack('B',rcv[:1])\n",
    "                        pressureDistribution[finger][x][y] |= (rcv[0]>>4) #AAAAAAAAAAAA\n",
    "                    else:\n",
    "                        pressureDistribution[finger][x][y] = (rcv[0] & 0x0F)<<8       #BBBB00000000\n",
    "                        rcv = self.ser.read()                                         #    BBBBBBBB\n",
    "                        rcv = struct.unpack('B',rcv[:1])\n",
    "                        pressureDistribution[finger][x][y] |= rcv[0]                  #BBBBBBBBBBBB\n",
    "        \n",
    "                    packing = (packing+1)%2 #0,1,0,1,0,1,...   \n",
    "            for x in range(self.thermalNum):            \n",
    "                if(packing == 0):\n",
    "                    rcv = self.ser.read()\n",
    "                    rcv = self.ser.read()\n",
    "                else:\n",
    "                    rcv = self.ser.read()   \n",
    "                packing = (packing+1)%2 \n",
    "        self.ser.flushInput()\n",
    "        self.ser.close()\n",
    "        self.pressureDistribution = pressureDistribution\n",
    "        self.Visualisation()\n",
    "        \n",
    "    def Visualisation(self): \n",
    "        presDis = self.pressureDistribution\n",
    "        shape = presDis.shape\n",
    "        xSP = 0\n",
    "        ySP = 0\n",
    "        step = 20\n",
    "    \n",
    "        plt.axes()\n",
    "        for finger in range(shape[0]):\n",
    "            for x in range(shape[1]):\n",
    "                for y in range(shape[2]):\n",
    "                    rectangle = plt.Rectangle((xSP+step*(x), ySP+step*(y)), step, step, \n",
    "                                              fc=(0.1, presDis[finger][x][y]/4096, 0.1), ec=\"red\")\n",
    "                    plt.gca().add_patch(rectangle)\n",
    "\n",
    "            xSP += step*11\n",
    "        plt.axis('scaled')\n",
    "        plt.show()"
   ]
  },
  {
   "cell_type": "code",
   "execution_count": null,
   "metadata": {},
   "outputs": [],
   "source": [
    "sensor = TactileSensor()\n",
    "sensor.firstRequest()"
   ]
  },
  {
   "cell_type": "code",
   "execution_count": null,
   "metadata": {},
   "outputs": [],
   "source": [
    "sensor.ReadData()"
   ]
  },
  {
   "cell_type": "code",
   "execution_count": null,
   "metadata": {},
   "outputs": [],
   "source": [
    "from IPython.display import clear_output"
   ]
  },
  {
   "cell_type": "code",
   "execution_count": null,
   "metadata": {},
   "outputs": [],
   "source": [
    "while True:\n",
    "    sensor.ReadData()\n",
    "    time.sleep(0.01)\n",
    "    clear_output(wait=True)\n",
    "    "
   ]
  },
  {
   "cell_type": "code",
   "execution_count": null,
   "metadata": {},
   "outputs": [],
   "source": []
  }
 ],
 "metadata": {
  "kernelspec": {
   "display_name": "Python 3",
   "language": "python",
   "name": "python3"
  },
  "language_info": {
   "codemirror_mode": {
    "name": "ipython",
    "version": 3
   },
   "file_extension": ".py",
   "mimetype": "text/x-python",
   "name": "python",
   "nbconvert_exporter": "python",
   "pygments_lexer": "ipython3",
   "version": "3.5.5"
  }
 },
 "nbformat": 4,
 "nbformat_minor": 2
}
