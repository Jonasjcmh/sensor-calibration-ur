{
 "cells": [
  {
   "cell_type": "code",
   "execution_count": 1,
   "metadata": {},
   "outputs": [
    {
     "name": "stdout",
     "output_type": "stream",
     "text": [
      "Requirement already satisfied: pyserial in c:\\users\\andres\\anaconda3\\lib\\site-packages (3.4)\n"
     ]
    }
   ],
   "source": [
    "!pip install pyserial"
   ]
  },
  {
   "cell_type": "code",
   "execution_count": 2,
   "metadata": {},
   "outputs": [],
   "source": [
    "import serial\n",
    "import numpy as np\n",
    "import pandas as pd\n",
    "import matplotlib.pyplot as plt\n",
    "import math\n",
    "import time\n",
    "import struct"
   ]
  },
  {
   "cell_type": "markdown",
   "metadata": {},
   "source": [
    "## Class of Tactile sensor"
   ]
  },
  {
   "cell_type": "code",
   "execution_count": 3,
   "metadata": {},
   "outputs": [],
   "source": [
    "class TactileSensor:\n",
    "    PC_MEASURE_REQUEST = 0       \n",
    "    sensorXNum=0\n",
    "    sensorYNum=0\n",
    "    thermalNum=0\n",
    "    fingerNum=0\n",
    "    pressureDistribution = 0\n",
    "    \n",
    "    def __init__(self, param = (10, 10, 2, 3)):  \n",
    "        self.setParam(param)\n",
    "    \n",
    "    def setParam(self, param):  \n",
    "        self.sensorXNum = param[0]  \n",
    "        self.sensorYNum = param[1]  \n",
    "        self.thermalNum = param[2]\n",
    "        self.fingerNum = param[3]\n",
    "        \n",
    "    def serialInit(self, port = 'COM9', baudrate = 921600, request = 0xFE):\n",
    "        self.ser = serial.Serial()\n",
    "        self.ser.baudrate = baudrate\n",
    "        self.ser.port = port  \n",
    "        self.PC_MEASURE_REQUEST = request\n",
    "        \n",
    "    def firstRequest(self):\n",
    "        self.serialInit()\n",
    "        data = bytearray([self.PC_MEASURE_REQUEST])\n",
    "        self.ser.open()\n",
    "        self.ser.write(data)\n",
    "        time.sleep(1)\n",
    "        self.ser.flushInput()\n",
    "        self.ser.close()\n",
    "        self.ReadData()\n",
    "            \n",
    "    def ReadData(self):\n",
    "        pressureDistribution = np.zeros([self.fingerNum, self.sensorXNum, self.sensorYNum], dtype = int)\n",
    "        finger = self.fingerNum\n",
    "        x = self.sensorXNum\n",
    "        y = self.sensorYNum\n",
    "        packing = 0\n",
    "        data = bytearray([self.PC_MEASURE_REQUEST])\n",
    "    \n",
    "        self.ser.open()\n",
    "        self.ser.write(data)\n",
    "        time.sleep(1)    \n",
    "        for finger in range(self.fingerNum):\n",
    "            for x in range(self.sensorXNum):\n",
    "                for y in range(self.sensorYNum):\n",
    "                    if(packing == 0):\n",
    "                        rcv = self.ser.read()                             #AAAAAAAA\n",
    "                        rcv = struct.unpack('B',rcv[:1])\n",
    "                        pressureDistribution[finger][x][y]= rcv[0]<<4     #AAAAAAAA0000\n",
    "                        rcv = self.ser.read()                             #        AAAABBBB\n",
    "                        rcv = struct.unpack('B',rcv[:1])\n",
    "                        pressureDistribution[finger][x][y] |= (rcv[0]>>4) #AAAAAAAAAAAA\n",
    "                    else:\n",
    "                        pressureDistribution[finger][x][y] = (rcv[0] & 0x0F)<<8       #BBBB00000000\n",
    "                        rcv = self.ser.read()                                         #    BBBBBBBB\n",
    "                        rcv = struct.unpack('B',rcv[:1])\n",
    "                        pressureDistribution[finger][x][y] |= rcv[0]                  #BBBBBBBBBBBB\n",
    "        \n",
    "                    packing = (packing+1)%2 #0,1,0,1,0,1,...   \n",
    "            for x in range(self.thermalNum):            \n",
    "                if(packing == 0):\n",
    "                    rcv = self.ser.read()\n",
    "                    rcv = self.ser.read()\n",
    "                else:\n",
    "                    rcv = self.ser.read()   \n",
    "                packing = (packing+1)%2 \n",
    "        self.ser.flushInput()\n",
    "        self.ser.close()\n",
    "        self.pressureDistribution = pressureDistribution\n",
    "        self.Visualisation()\n",
    "        \n",
    "    def Visualisation(self): \n",
    "        presDis = self.pressureDistribution\n",
    "        shape = presDis.shape\n",
    "        xSP = 0\n",
    "        ySP = 0\n",
    "        step = 20\n",
    "    \n",
    "        plt.axes()\n",
    "        for finger in range(shape[0]):\n",
    "            for x in range(shape[1]):\n",
    "                for y in range(shape[2]):\n",
    "                    rectangle = plt.Rectangle((xSP+step*(x), ySP+step*(y)), step, step, \n",
    "                                              fc=(0.1, presDis[finger][x][y]/4096, 0.1), ec=\"red\")\n",
    "                    plt.gca().add_patch(rectangle)\n",
    "\n",
    "            xSP += step*11\n",
    "        plt.axis('scaled')\n",
    "        plt.show()"
   ]
  },
  {
   "cell_type": "markdown",
   "metadata": {},
   "source": [
    "## Class of database"
   ]
  },
  {
   "cell_type": "code",
   "execution_count": 5,
   "metadata": {},
   "outputs": [],
   "source": [
    "class DataBase: \n",
    "    ##Dataset object\n",
    "    dataBase = 0\n",
    "    ##Counter of rows\n",
    "    numberRow = 0\n",
    "  \n",
    "    def __init__(self, numberPoint = 201):  \n",
    "        self.dataBase = 0\n",
    "        col_names = [i for i in range(1,numberPoint)]\n",
    "        col_names.append('Angle')\n",
    "        ### Create dataset object with 201 columns - (1 - 200 numbers, Angle)\n",
    "        self.dataBase = pd.DataFrame(columns = col_names)\n",
    "        \n",
    "    ##Function, which add data to the Dataset object.\n",
    "    ##Input - pressure from data and angle, which is correlated with this pressure.    \n",
    "    def addRow(self, pressureDistribution, angle):\n",
    "        row = []\n",
    "        for i in pressureDistribution[0].tolist():\n",
    "            row+=i\n",
    "        for i in pressureDistribution[2].tolist():\n",
    "            row+=i\n",
    "        row.append(angle)\n",
    "        self.dataBase.loc[self.numberRow] = row\n",
    "        self.numberRow+=1\n",
    "    \n",
    "    ##Function, which save data in .csv file.\n",
    "    ##Input - path to file, where you want to save data. If file doesn't exist, it will be created.\n",
    "    def saveData(self, name = 'Your_dataset.csv'):\n",
    "        self.dataBase.to_csv(name, index=False, header=True)\n",
    "        \n",
    "    ##Example of autonomous collecting data. Yo\n",
    "    def collectingData(self, delta, sensor, endCoord, limits, angle, steps = 10, numberPoint = 10):\n",
    "        xLimt = np.linspace(limits[0], limits[1], num=numberPoint)\n",
    "        yLimt = np.linspace(limits[2], limits[3], num=numberPoint)\n",
    "        for i in xLimt:\n",
    "            for j in yLimt:\n",
    "                print('Number row = %d' % (self.numberRow))\n",
    "                ##Not important\n",
    "                delta.moveTo([i, j, -20], steps+1)\n",
    "                delta.printCoord()\n",
    "                data = delta.angleToByte()\n",
    "                delta.serialWrite(data)\n",
    "                time.sleep(1.5)                \n",
    "                delta.moveTo(endCoord, steps+1)\n",
    "                ##Part of reading data and save in object\n",
    "                sensor.ReadData()\n",
    "                dataDelta.addRow(sensor.pressureDistribution, angle)\n",
    "        \n",
    "        delta.moveTo([0, 0, -20], 5)\n",
    "        fileName = angle+'.csv'\n",
    "        self.saveData(fileName)"
   ]
  },
  {
   "cell_type": "code",
   "execution_count": 4,
   "metadata": {},
   "outputs": [
    {
     "ename": "SerialException",
     "evalue": "could not open port 'COM4': FileNotFoundError(2, 'Не удается найти указанный файл.', None, 2)",
     "output_type": "error",
     "traceback": [
      "\u001b[1;31m---------------------------------------------------------------------------\u001b[0m",
      "\u001b[1;31mSerialException\u001b[0m                           Traceback (most recent call last)",
      "\u001b[1;32m<ipython-input-4-b05113fb4e61>\u001b[0m in \u001b[0;36m<module>\u001b[1;34m\u001b[0m\n\u001b[0;32m      1\u001b[0m \u001b[0msensor\u001b[0m \u001b[1;33m=\u001b[0m \u001b[0mTactileSensor\u001b[0m\u001b[1;33m(\u001b[0m\u001b[1;33m)\u001b[0m\u001b[1;33m\u001b[0m\u001b[1;33m\u001b[0m\u001b[0m\n\u001b[1;32m----> 2\u001b[1;33m \u001b[0msensor\u001b[0m\u001b[1;33m.\u001b[0m\u001b[0mfirstRequest\u001b[0m\u001b[1;33m(\u001b[0m\u001b[1;33m)\u001b[0m\u001b[1;33m\u001b[0m\u001b[1;33m\u001b[0m\u001b[0m\n\u001b[0m",
      "\u001b[1;32m<ipython-input-3-2a797915bf1f>\u001b[0m in \u001b[0;36mfirstRequest\u001b[1;34m(self)\u001b[0m\n\u001b[0;32m     25\u001b[0m         \u001b[0mself\u001b[0m\u001b[1;33m.\u001b[0m\u001b[0mserialInit\u001b[0m\u001b[1;33m(\u001b[0m\u001b[1;33m)\u001b[0m\u001b[1;33m\u001b[0m\u001b[1;33m\u001b[0m\u001b[0m\n\u001b[0;32m     26\u001b[0m         \u001b[0mdata\u001b[0m \u001b[1;33m=\u001b[0m \u001b[0mbytearray\u001b[0m\u001b[1;33m(\u001b[0m\u001b[1;33m[\u001b[0m\u001b[0mself\u001b[0m\u001b[1;33m.\u001b[0m\u001b[0mPC_MEASURE_REQUEST\u001b[0m\u001b[1;33m]\u001b[0m\u001b[1;33m)\u001b[0m\u001b[1;33m\u001b[0m\u001b[1;33m\u001b[0m\u001b[0m\n\u001b[1;32m---> 27\u001b[1;33m         \u001b[0mself\u001b[0m\u001b[1;33m.\u001b[0m\u001b[0mser\u001b[0m\u001b[1;33m.\u001b[0m\u001b[0mopen\u001b[0m\u001b[1;33m(\u001b[0m\u001b[1;33m)\u001b[0m\u001b[1;33m\u001b[0m\u001b[1;33m\u001b[0m\u001b[0m\n\u001b[0m\u001b[0;32m     28\u001b[0m         \u001b[0mself\u001b[0m\u001b[1;33m.\u001b[0m\u001b[0mser\u001b[0m\u001b[1;33m.\u001b[0m\u001b[0mwrite\u001b[0m\u001b[1;33m(\u001b[0m\u001b[0mdata\u001b[0m\u001b[1;33m)\u001b[0m\u001b[1;33m\u001b[0m\u001b[1;33m\u001b[0m\u001b[0m\n\u001b[0;32m     29\u001b[0m         \u001b[0mtime\u001b[0m\u001b[1;33m.\u001b[0m\u001b[0msleep\u001b[0m\u001b[1;33m(\u001b[0m\u001b[1;36m1\u001b[0m\u001b[1;33m)\u001b[0m\u001b[1;33m\u001b[0m\u001b[1;33m\u001b[0m\u001b[0m\n",
      "\u001b[1;32mC:\\Anaconda3\\envs\\py37\\lib\\site-packages\\serial\\serialwin32.py\u001b[0m in \u001b[0;36mopen\u001b[1;34m(self)\u001b[0m\n\u001b[0;32m     62\u001b[0m         \u001b[1;32mif\u001b[0m \u001b[0mself\u001b[0m\u001b[1;33m.\u001b[0m\u001b[0m_port_handle\u001b[0m \u001b[1;33m==\u001b[0m \u001b[0mwin32\u001b[0m\u001b[1;33m.\u001b[0m\u001b[0mINVALID_HANDLE_VALUE\u001b[0m\u001b[1;33m:\u001b[0m\u001b[1;33m\u001b[0m\u001b[1;33m\u001b[0m\u001b[0m\n\u001b[0;32m     63\u001b[0m             \u001b[0mself\u001b[0m\u001b[1;33m.\u001b[0m\u001b[0m_port_handle\u001b[0m \u001b[1;33m=\u001b[0m \u001b[1;32mNone\u001b[0m    \u001b[1;31m# 'cause __del__ is called anyway\u001b[0m\u001b[1;33m\u001b[0m\u001b[1;33m\u001b[0m\u001b[0m\n\u001b[1;32m---> 64\u001b[1;33m             \u001b[1;32mraise\u001b[0m \u001b[0mSerialException\u001b[0m\u001b[1;33m(\u001b[0m\u001b[1;34m\"could not open port {!r}: {!r}\"\u001b[0m\u001b[1;33m.\u001b[0m\u001b[0mformat\u001b[0m\u001b[1;33m(\u001b[0m\u001b[0mself\u001b[0m\u001b[1;33m.\u001b[0m\u001b[0mportstr\u001b[0m\u001b[1;33m,\u001b[0m \u001b[0mctypes\u001b[0m\u001b[1;33m.\u001b[0m\u001b[0mWinError\u001b[0m\u001b[1;33m(\u001b[0m\u001b[1;33m)\u001b[0m\u001b[1;33m)\u001b[0m\u001b[1;33m)\u001b[0m\u001b[1;33m\u001b[0m\u001b[1;33m\u001b[0m\u001b[0m\n\u001b[0m\u001b[0;32m     65\u001b[0m \u001b[1;33m\u001b[0m\u001b[0m\n\u001b[0;32m     66\u001b[0m         \u001b[1;32mtry\u001b[0m\u001b[1;33m:\u001b[0m\u001b[1;33m\u001b[0m\u001b[1;33m\u001b[0m\u001b[0m\n",
      "\u001b[1;31mSerialException\u001b[0m: could not open port 'COM4': FileNotFoundError(2, 'Не удается найти указанный файл.', None, 2)"
     ]
    }
   ],
   "source": [
    "dataset = DataBase()\n",
    "sensor = TactileSensor()\n",
    "sensor.firstRequest()"
   ]
  },
  {
   "cell_type": "code",
   "execution_count": 77,
   "metadata": {},
   "outputs": [
    {
     "data": {
      "image/png": "[encoded data removed]",
      "text/plain": [
       "<Figure size 432x288 with 1 Axes>"
      ]
     },
     "metadata": {
      "needs_background": "light"
     },
     "output_type": "display_data"
    }
   ],
   "source": [
    "sensor.ReadData()\n",
    "dataset.addRow(sensor.pressureDistribution, 10)"
   ]
  },
  {
   "cell_type": "code",
   "execution_count": null,
   "metadata": {},
   "outputs": [],
   "source": [
    "dataset.saveData('export_dataframe.csv')"
   ]
  },
  {
   "cell_type": "code",
   "execution_count": null,
   "metadata": {},
   "outputs": [],
   "source": [
    "data=pd.read_csv('./export_dataframe.csv')\n",
    "data.head(10)"
   ]
  }
 ],
 "metadata": {
  "kernelspec": {
   "display_name": "Python 3",
   "language": "python",
   "name": "python3"
  },
  "language_info": {
   "codemirror_mode": {
    "name": "ipython",
    "version": 3
   },
   "file_extension": ".py",
   "mimetype": "text/x-python",
   "name": "python",
   "nbconvert_exporter": "python",
   "pygments_lexer": "ipython3",
   "version": "3.5.5"
  }
 },
 "nbformat": 4,
 "nbformat_minor": 2
}
